{
 "cells": [
  {
   "cell_type": "markdown",
   "id": "282d1aa9",
   "metadata": {},
   "source": [
    "### **Loss Functions**\n",
    "\n",
    "| Nom                           | Module PyTorch                                | Fonctionnelle (torch.nn.functional)           | Description |\n",
    "|-------------------------------|-----------------------------------------------|-----------------------------------------------|-------------|\n",
    "| Mean Squared Error (MSE)      | `nn.MSELoss()`                                | `F.mse_loss(pred, target)`                   | Erreur quadratique moyenne (régression) |\n",
    "| Mean Absolute Error (L1)      | `nn.L1Loss()`                                 | `F.l1_loss(pred, target)`                    | Erreur absolue moyenne |\n",
    "| Cross-Entropy                 | `nn.CrossEntropyLoss()`                       | `F.cross_entropy(pred, target)`               | Classification multi-classes logits → probas |\n",
    "| Binary Cross-Entropy (BCE)    | `nn.BCELoss()`                                | `F.binary_cross_entropy(pred, target)`        | Classification binaire (probas) |\n",
    "| Kullback–Leibler Divergence    | `nn.KLDivLoss()`                              | `F.kl_div(log_pred, target, reduction='batchmean')` | Mesure de divergence entre distrib. |"
   ]
  },
  {
   "cell_type": "code",
   "execution_count": null,
   "id": "dc55c71d",
   "metadata": {},
   "outputs": [],
   "source": [
    "## imports\n",
    "import torch\n",
    "import torch.nn as nn\n",
    "import torch.nn.functional as F"
   ]
  },
  {
   "cell_type": "code",
   "execution_count": null,
   "id": "69e31adb",
   "metadata": {},
   "outputs": [
    {
     "name": "stdout",
     "output_type": "stream",
     "text": [
      "MSE (module): 0.2500\n"
     ]
    }
   ],
   "source": [
    "# Math: loss = mean((y_pred - y_true)**2)\n",
    "## moyenne écart quadratique\n",
    "\n",
    "mse_loss = nn.MSELoss()  \n",
    "\n",
    "y_pred = torch.tensor([2.0, 3.0])\n",
    "y_true = torch.tensor([1.5, 2.5])\n",
    "loss1 = mse_loss(y_pred, y_true) \n",
    "\n",
    "print(f\"MSE (module): {loss1.item():.4f}\")"
   ]
  },
  {
   "cell_type": "code",
   "execution_count": 3,
   "id": "5fcd8cef",
   "metadata": {},
   "outputs": [
    {
     "name": "stdout",
     "output_type": "stream",
     "text": [
      "L1 : 0.5000\n"
     ]
    }
   ],
   "source": [
    "# Math: loss = mean(abs(y_pred - y_true))\n",
    "## moyenne écart absolu\n",
    "l1_loss = nn.L1Loss()\n",
    "\n",
    "y_pred = torch.tensor([2.0, 3.0])\n",
    "y_true = torch.tensor([1.5, 2.5])\n",
    "loss = l1_loss(y_pred, y_true)\n",
    "print(f\"L1 : {loss.item():.4f}\")"
   ]
  },
  {
   "cell_type": "code",
   "execution_count": 4,
   "id": "94f16a23",
   "metadata": {},
   "outputs": [
    {
     "name": "stdout",
     "output_type": "stream",
     "text": [
      "CrossEntropy : 0.2413\n"
     ]
    }
   ],
   "source": [
    "# Math: loss = -sum(target_i * log_softmax(logits)_i)\n",
    "## entropie croisée / ~ EMV\n",
    "ce = nn.CrossEntropyLoss()\n",
    "\n",
    "logits = torch.tensor([[2.0, 0.5, -1.0]])\n",
    "target = torch.tensor([0])\n",
    "loss = ce(logits, target)\n",
    "print(f\"CrossEntropy : {loss.item():.4f}\")"
   ]
  },
  {
   "cell_type": "code",
   "execution_count": 5,
   "id": "7c30ef58",
   "metadata": {},
   "outputs": [
    {
     "name": "stdout",
     "output_type": "stream",
     "text": [
      "BCE : 0.4088\n"
     ]
    }
   ],
   "source": [
    "# Math: loss = -mean(t*log(p)+(1-t)*log(1-p))\n",
    "## entropie croisée binaire\n",
    "bce = nn.BCELoss()\n",
    "\n",
    "probs = torch.sigmoid(torch.tensor([0.3, -1.2]))\n",
    "targets = torch.tensor([1.0, 0.0])\n",
    "loss = bce(probs, targets)\n",
    "print(f\"BCE : {loss.item():.4f}\")"
   ]
  },
  {
   "cell_type": "code",
   "execution_count": 6,
   "id": "279c7e72",
   "metadata": {},
   "outputs": [
    {
     "name": "stdout",
     "output_type": "stream",
     "text": [
      "KLDiv : 0.5460\n"
     ]
    }
   ],
   "source": [
    "# Math: loss = sum(p*(log(p)-log(q)))\n",
    "## divergence KL\n",
    "kl = nn.KLDivLoss(reduction='batchmean')\n",
    "\n",
    "log_q = nn.functional.log_softmax(torch.randn(2,3), dim=1)\n",
    "p = torch.softmax(torch.randn(2,3), dim=1)\n",
    "loss = kl(log_q, p)\n",
    "print(f\"KLDiv : {loss.item():.4f}\")"
   ]
  }
 ],
 "metadata": {
  "kernelspec": {
   "display_name": ".venv",
   "language": "python",
   "name": "python3"
  },
  "language_info": {
   "codemirror_mode": {
    "name": "ipython",
    "version": 3
   },
   "file_extension": ".py",
   "mimetype": "text/x-python",
   "name": "python",
   "nbconvert_exporter": "python",
   "pygments_lexer": "ipython3",
   "version": "3.12.4"
  }
 },
 "nbformat": 4,
 "nbformat_minor": 5
}
