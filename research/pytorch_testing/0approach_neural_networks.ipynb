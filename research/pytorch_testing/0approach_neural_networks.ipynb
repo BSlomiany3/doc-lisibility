{
 "cells": [
  {
   "cell_type": "markdown",
   "metadata": {},
   "source": [
    "# Simple network of two hidden dense layers\n",
    "\n",
    "## Stochastic gradient descent / online learning"
   ]
  },
  {
   "cell_type": "markdown",
   "metadata": {},
   "source": [
    "Retropropagation \n",
    "- en utilisant un eboucle explicite\n",
    "- en mettant à jour après chaque observation (online learning / stochastic gradient descent)"
   ]
  },
  {
   "cell_type": "markdown",
   "metadata": {},
   "source": [
    "Architecture\n",
    "\n",
    "    input (layer0) : 2 variables\n",
    "    layer 1: 3 neurons (sigmoid)\n",
    "    layer 2: 5 neurons (sigmoid)\n",
    "    layer 3 (output) : single neuron (sigmoid)"
   ]
  },
  {
   "cell_type": "markdown",
   "metadata": {},
   "source": [
    "    L0  L1   L2   L3\n",
    "    \n",
    "    x1    /  o \n",
    "      \\ o    o  \\\n",
    "        o    o    o ->\n",
    "      / o    o  /\n",
    "    x2    \\  o"
   ]
  },
  {
   "cell_type": "markdown",
   "metadata": {},
   "source": [
    "$W_1 \\in M_{3,2}$\n",
    "\n",
    "$W_2 \\in M_{5,3}$\n",
    "\n",
    "$W_3 \\in M_{1, 5}$"
   ]
  },
  {
   "cell_type": "code",
   "execution_count": 23,
   "metadata": {},
   "outputs": [],
   "source": [
    "import numpy as np\n",
    "from numpy.random import randn\n",
    "import matplotlib.pyplot as plt"
   ]
  },
  {
   "cell_type": "markdown",
   "metadata": {},
   "source": [
    "### Dataset"
   ]
  },
  {
   "cell_type": "code",
   "execution_count": 24,
   "metadata": {},
   "outputs": [
    {
     "data": {
      "text/plain": [
       "((20, 2), (20,))"
      ]
     },
     "execution_count": 24,
     "metadata": {},
     "output_type": "execute_result"
    }
   ],
   "source": [
    "from sklearn.datasets import make_moons\n",
    "X, y = make_moons(n_samples=20, noise=0.05, random_state=12345) # not too hard\n",
    "X.shape, y.shape"
   ]
  },
  {
   "cell_type": "code",
   "execution_count": 25,
   "metadata": {},
   "outputs": [
    {
     "data": {
      "image/png": "[encoded data removed]",
      "text/plain": [
       "<Figure size 640x480 with 2 Axes>"
      ]
     },
     "metadata": {},
     "output_type": "display_data"
    }
   ],
   "source": [
    "plt.scatter(X[:,0], X[:, 1], c=y, cmap='copper_r')\n",
    "plt.colorbar()\n",
    "plt.show()"
   ]
  },
  {
   "cell_type": "markdown",
   "metadata": {},
   "source": [
    "## Network construction / initialisation\n"
   ]
  },
  {
   "cell_type": "code",
   "execution_count": 26,
   "metadata": {},
   "outputs": [],
   "source": [
    "# random init for weights\n",
    "np.random.seed(124)\n",
    "# Weights matrix: one line per neuron, one column per neuron in the previous layer\n",
    "W1 = randn(3, 2)   \n",
    "# Column vector of bias (compatible with forward pass formula)\n",
    "b1 = randn(3, 1) \n",
    "\n",
    "W2 = randn(5, 3)\n",
    "b2 = randn(5, 1)\n",
    "\n",
    "W3 = randn(1, 5)\n",
    "b3 = randn(1, 1)  # not a scalar (!) but 1x1 matrix\n"
   ]
  },
  {
   "cell_type": "code",
   "execution_count": 27,
   "metadata": {},
   "outputs": [
    {
     "data": {
      "text/plain": [
       "array([[-0.71988132, -0.96488339,  0.25358279],\n",
       "       [ 0.3080074 , -0.071606  , -1.13548051],\n",
       "       [-0.1022454 ,  0.80818623,  0.23199239],\n",
       "       [-1.40035848,  0.71590778, -2.12456763],\n",
       "       [ 1.24141343,  0.23631196, -1.08889182]])"
      ]
     },
     "execution_count": 27,
     "metadata": {},
     "output_type": "execute_result"
    }
   ],
   "source": [
    "W2"
   ]
  },
  {
   "cell_type": "code",
   "execution_count": 28,
   "metadata": {},
   "outputs": [],
   "source": [
    "def sigma(x):\n",
    "    return 1 / (1 + np.exp(-x))\n",
    "\n",
    "def sigprim(x):\n",
    "    return sigma(x) * (1 - sigma(x))"
   ]
  },
  {
   "cell_type": "markdown",
   "metadata": {},
   "source": [
    "## Forward pass for *one* training instance"
   ]
  },
  {
   "cell_type": "code",
   "execution_count": 29,
   "metadata": {},
   "outputs": [
    {
     "data": {
      "text/plain": [
       "(2, 1)"
      ]
     },
     "execution_count": 29,
     "metadata": {},
     "output_type": "execute_result"
    }
   ],
   "source": [
    "# We will process just the first training example\n",
    "# To use the same notation as on paper, we put it in a 2D column vector\n",
    "# Activations of the input layer:\n",
    "ind0 = 0  # on choisit les poids d'indice 0\n",
    "a0 = X[ind0:ind0+1, :].T # activation dans la couche d'entrée: les coeffs de la ligne 0 du dataset\n",
    "a0.shape"
   ]
  },
  {
   "cell_type": "code",
   "execution_count": 30,
   "metadata": {},
   "outputs": [
    {
     "data": {
      "text/plain": [
       "(3, 1)"
      ]
     },
     "execution_count": 30,
     "metadata": {},
     "output_type": "execute_result"
    }
   ],
   "source": [
    "z1 = W1 @ a0 + b1 # selon la formule mathématiques du cours\n",
    "# shape (3, 2) * (2, 1) -> (3, 1)\n",
    "a1 = sigma(z1)\n",
    "a1.shape"
   ]
  },
  {
   "cell_type": "code",
   "execution_count": 31,
   "metadata": {},
   "outputs": [
    {
     "data": {
      "text/plain": [
       "(5, 1)"
      ]
     },
     "execution_count": 31,
     "metadata": {},
     "output_type": "execute_result"
    }
   ],
   "source": [
    "z2 = W2 @ a1 + b2\n",
    "a2 = sigma(z2)\n",
    "# shape (5, 3) * (3, 1) -> (5, 1)\n",
    "z2.shape # matrice colonne, 1 coef par neurone dans la couche 2"
   ]
  },
  {
   "cell_type": "code",
   "execution_count": 32,
   "metadata": {},
   "outputs": [
    {
     "data": {
      "text/plain": [
       "((1, 1), array([[0.17909398]]))"
      ]
     },
     "execution_count": 32,
     "metadata": {},
     "output_type": "execute_result"
    }
   ],
   "source": [
    "z3 = W3 @ a2 + b3\n",
    "a3 = sigma(z3)\n",
    "# shape (1, 5) * (5, 1) -> (1, 1)\n",
    "a3.shape, a3 "
   ]
  },
  {
   "cell_type": "code",
   "execution_count": 33,
   "metadata": {},
   "outputs": [
    {
     "data": {
      "text/plain": [
       "0.17909397509745908"
      ]
     },
     "execution_count": 33,
     "metadata": {},
     "output_type": "execute_result"
    }
   ],
   "source": [
    "# Valeur numérique (deux indices)\n",
    "\n",
    "a3[0, 0]"
   ]
  },
  {
   "cell_type": "markdown",
   "metadata": {},
   "source": [
    "\n",
    "## Backpropagation"
   ]
  },
  {
   "cell_type": "markdown",
   "metadata": {},
   "source": [
    "Error (shift, correction?) in the output layer [**BP1**]\n",
    "\n",
    "$\\displaystyle \\delta_j^L = (a^L - y) \\odot \\sigma'(z_j^L)$ \n",
    "\n",
    "(only one neuron here, so $j$ index might be omitted)"
   ]
  },
  {
   "cell_type": "code",
   "execution_count": 34,
   "metadata": {},
   "outputs": [
    {
     "name": "stdout",
     "output_type": "stream",
     "text": [
      "(1, 1)\n"
     ]
    }
   ],
   "source": [
    "delta3 = (a3 - y[ind0]) * sigprim(z3)\n",
    "print(delta3.shape) # un seul neurone dans la dernière couche"
   ]
  },
  {
   "cell_type": "markdown",
   "metadata": {},
   "source": [
    "Backpropagate the error [**BP2**]\n",
    "\n",
    "$\\displaystyle \\delta^l = ((W^{l+1})^T)\\delta^{l+1} \\odot \\sigma'(z^{l})$"
   ]
  },
  {
   "cell_type": "code",
   "execution_count": 35,
   "metadata": {},
   "outputs": [
    {
     "data": {
      "text/plain": [
       "(array([[ 0.03233452],\n",
       "        [-0.01356514],\n",
       "        [ 0.01342836],\n",
       "        [-0.00326986],\n",
       "        [ 0.05845582]]),\n",
       " (5, 1))"
      ]
     },
     "execution_count": 35,
     "metadata": {},
     "output_type": "execute_result"
    }
   ],
   "source": [
    "# l = 2 pour calculer delta2\n",
    "\n",
    "delta2 = (W3.T @ delta3) * sigprim(z2)\n",
    "delta2, delta2.shape"
   ]
  },
  {
   "cell_type": "code",
   "execution_count": 36,
   "metadata": {},
   "outputs": [
    {
     "data": {
      "text/plain": [
       "(array([[ 0.01073452],\n",
       "        [-0.00197333],\n",
       "        [-0.00703027]]),\n",
       " (3, 1))"
      ]
     },
     "execution_count": 36,
     "metadata": {},
     "output_type": "execute_result"
    }
   ],
   "source": [
    "# l = 1 pour delta1\n",
    "\n",
    "delta1 = (W2.T @ delta2) * sigprim(z1)\n",
    "delta1, delta1.shape # il y a 3 neurones dans la couche 1"
   ]
  },
  {
   "cell_type": "markdown",
   "metadata": {},
   "source": [
    "#### The gradient for the biases [**BP3**]\n",
    "\n",
    "$\\displaystyle \\frac{\\partial C}{\\partial b_j^l} = \\delta_j^l$"
   ]
  },
  {
   "cell_type": "code",
   "execution_count": 37,
   "metadata": {},
   "outputs": [],
   "source": [
    "nabla_b1 = delta1 # première couche\n",
    "nabla_b2 = delta2 # deuxième couche\n",
    "nabla_b3 = delta3 # troisième couche (1 neurone)"
   ]
  },
  {
   "cell_type": "code",
   "execution_count": 38,
   "metadata": {},
   "outputs": [
    {
     "data": {
      "text/plain": [
       "(array([[ 0.01073452],\n",
       "        [-0.00197333],\n",
       "        [-0.00703027]]),\n",
       " array([[ 0.03233452],\n",
       "        [-0.01356514],\n",
       "        [ 0.01342836],\n",
       "        [-0.00326986],\n",
       "        [ 0.05845582]]),\n",
       " array([[-0.12068905]]))"
      ]
     },
     "execution_count": 38,
     "metadata": {},
     "output_type": "execute_result"
    }
   ],
   "source": [
    "nabla_b1, nabla_b2, nabla_b3"
   ]
  },
  {
   "cell_type": "markdown",
   "metadata": {},
   "source": [
    "#### The gradient for weights **[BP4]**, mathematical formula\n",
    "\n",
    "$\\displaystyle \\frac{\\partial C}{\\partial w_{jk}^l} = a_k^{l-1}\\delta_j^l = \\delta_j^l a_k^{l-1} $\n"
   ]
  },
  {
   "cell_type": "markdown",
   "metadata": {},
   "source": [
    "### Remarque\n",
    "\n",
    "- Si on formate $delta^l$ en colonne et $a^(l-1)$ en ligne, le produit matriciel\n",
    "- $delta^l a^(l-1)$ donnera \"d'un seul coup\" la matrice du gradient $ \\frac{\\partial C}{\\partial w_{jk}^l} = a_k^{l-1}\\delta_j^l = \\delta_j^l a_k^{l-1} $\n",
    "\n",
    "Mais dans un premier temps, on va faire ce même calcul coef par coef (dans une boucle imbriquée)"
   ]
  },
  {
   "cell_type": "code",
   "execution_count": 39,
   "metadata": {},
   "outputs": [
    {
     "data": {
      "text/plain": [
       "array([[-0.06449463, -0.04275555, -0.06734968, -0.01992108, -0.07965439]])"
      ]
     },
     "execution_count": 39,
     "metadata": {},
     "output_type": "execute_result"
    }
   ],
   "source": [
    "nabla_W3 = np.zeros(W3.shape)\n",
    "\n",
    "for j in range(W3.shape[0]): # Pour chaque ligne\n",
    "    for k in range(W3.shape[1]): # Pour chaque colonne\n",
    "        nabla_W3[j, k] = a2[k, 0] * delta3[j, 0]\n",
    "\n",
    "nabla_W3"
   ]
  },
  {
   "cell_type": "code",
   "execution_count": 40,
   "metadata": {},
   "outputs": [],
   "source": [
    "nabla_W2 = np.zeros(W2.shape)\n",
    "\n",
    "for j in range(W2.shape[0]): # Pour chaque ligne\n",
    "    for k in range(W2.shape[1]): # Pour chaque colonne\n",
    "        nabla_W2[j, k] = a1[k, 0] * delta2[j, 0]"
   ]
  },
  {
   "cell_type": "code",
   "execution_count": 41,
   "metadata": {},
   "outputs": [],
   "source": [
    "nabla_W1 = np.zeros(W1.shape)\n",
    "\n",
    "for j in range(W1.shape[0]): # Pour chaque ligne\n",
    "    for k in range(W1.shape[1]): # Pour chaque colonne\n",
    "        nabla_W1[j, k] = a0[k, 0] * delta1[j, 0]"
   ]
  },
  {
   "cell_type": "markdown",
   "metadata": {},
   "source": [
    "### Updating the network\n"
   ]
  },
  {
   "cell_type": "code",
   "execution_count": 42,
   "metadata": {},
   "outputs": [],
   "source": [
    "eta = 0.1 # learning rate / taux d'apprentissage\n",
    "\n",
    "b1 -= eta * nabla_b1\n",
    "b2 -= eta * nabla_b2\n",
    "b3 -= eta * nabla_b3\n",
    "\n",
    "W3 -= eta * nabla_W3\n",
    "W2 -= eta * nabla_W2\n",
    "W1 -= eta * nabla_W1"
   ]
  },
  {
   "cell_type": "markdown",
   "metadata": {},
   "source": [
    "## Putting it all together\n",
    "in a complete learning loop, mode full batch (update with mean gradient of all data points)"
   ]
  },
  {
   "cell_type": "code",
   "execution_count": 43,
   "metadata": {},
   "outputs": [],
   "source": [
    "from time import time"
   ]
  },
  {
   "cell_type": "code",
   "execution_count": 47,
   "metadata": {},
   "outputs": [
    {
     "name": "stdout",
     "output_type": "stream",
     "text": [
      "epoch 1000 finished, MSE: 4.4089196421357455, time: 3.54 s.\n",
      "epoch 2000 finished, MSE: 3.5220712863076415, time: 2.62 s.\n",
      "epoch 3000 finished, MSE: 3.0002943192430487, time: 3.51 s.\n",
      "epoch 4000 finished, MSE: 2.7333176997644464, time: 3.32 s.\n",
      "epoch 5000 finished, MSE: 2.577379094475273, time: 2.53 s.\n",
      "epoch 6000 finished, MSE: 2.487845872685937, time: 2.58 s.\n",
      "epoch 7000 finished, MSE: 2.4371792638580483, time: 2.97 s.\n",
      "epoch 8000 finished, MSE: 2.4085797851238673, time: 5.56 s.\n",
      "epoch 9000 finished, MSE: 2.3922953505390283, time: 3.9 s.\n",
      "epoch 10000 finished, MSE: 2.3827155527948607, time: 2.7 s.\n",
      "epoch 11000 finished, MSE: 2.37670587917583, time: 2.62 s.\n",
      "epoch 12000 finished, MSE: 2.372573779058271, time: 2.64 s.\n",
      "epoch 13000 finished, MSE: 2.3694186170310005, time: 3.62 s.\n",
      "epoch 14000 finished, MSE: 2.3667565643804194, time: 3.04 s.\n",
      "epoch 15000 finished, MSE: 2.364318821165703, time: 2.72 s.\n",
      "epoch 16000 finished, MSE: 2.3619456889346915, time: 2.82 s.\n",
      "epoch 17000 finished, MSE: 2.3595297649283795, time: 3.08 s.\n",
      "epoch 18000 finished, MSE: 2.356982837702728, time: 3.6 s.\n",
      "epoch 19000 finished, MSE: 2.3542125295384384, time: 3.85 s.\n",
      "epoch 20000 finished, MSE: 2.351099689041587, time: 2.88 s.\n",
      "epoch 21000 finished, MSE: 2.3474681771463985, time: 2.78 s.\n",
      "epoch 22000 finished, MSE: 2.3430354032866285, time: 2.75 s.\n",
      "epoch 23000 finished, MSE: 2.3373235358254254, time: 3.35 s.\n",
      "epoch 24000 finished, MSE: 2.3294960184067217, time: 3.5 s.\n",
      "epoch 25000 finished, MSE: 2.3180664766474033, time: 2.66 s.\n",
      "epoch 26000 finished, MSE: 2.3004446834344563, time: 3.39 s.\n",
      "epoch 27000 finished, MSE: 2.272451736265365, time: 3.61 s.\n",
      "epoch 28000 finished, MSE: 2.228301600143674, time: 5.59 s.\n",
      "epoch 29000 finished, MSE: 2.161389127676241, time: 3.53 s.\n",
      "epoch 30000 finished, MSE: 2.0649336112128505, time: 3.42 s.\n",
      "epoch 31000 finished, MSE: 1.9325569518715344, time: 4.02 s.\n",
      "epoch 32000 finished, MSE: 1.7621634491875535, time: 4.43 s.\n",
      "epoch 33000 finished, MSE: 1.5628237545096313, time: 4.3 s.\n",
      "epoch 34000 finished, MSE: 1.355784296744089, time: 4.2 s.\n",
      "epoch 35000 finished, MSE: 1.1627633534014847, time: 3.0 s.\n",
      "epoch 36000 finished, MSE: 0.9944712301312418, time: 4.29 s.\n",
      "epoch 37000 finished, MSE: 0.8516887605124939, time: 4.24 s.\n",
      "epoch 38000 finished, MSE: 0.7312455047737558, time: 3.85 s.\n",
      "epoch 39000 finished, MSE: 0.6294594881569929, time: 3.07 s.\n",
      "epoch 40000 finished, MSE: 0.5430589133604407, time: 4.59 s.\n",
      "epoch 41000 finished, MSE: 0.46928707647084617, time: 3.69 s.\n",
      "epoch 42000 finished, MSE: 0.4059276562066545, time: 3.5 s.\n",
      "epoch 43000 finished, MSE: 0.351297572952946, time: 3.68 s.\n",
      "epoch 44000 finished, MSE: 0.30415846382667033, time: 5.27 s.\n",
      "epoch 45000 finished, MSE: 0.26357515855574926, time: 5.15 s.\n",
      "epoch 46000 finished, MSE: 0.22878092781405807, time: 5.58 s.\n",
      "epoch 47000 finished, MSE: 0.1990877625141717, time: 5.6 s.\n",
      "epoch 48000 finished, MSE: 0.17384689097689698, time: 6.8 s.\n",
      "epoch 49000 finished, MSE: 0.15244418739776994, time: 4.53 s.\n",
      "epoch 50000 finished, MSE: 0.1343108729767706, time: 4.83 s.\n",
      "epoch 51000 finished, MSE: 0.11893546735964582, time: 9.61 s.\n",
      "epoch 52000 finished, MSE: 0.10587057807977662, time: 5.2 s.\n",
      "epoch 53000 finished, MSE: 0.09473354309847704, time: 6.03 s.\n",
      "epoch 54000 finished, MSE: 0.0852024423099939, time: 6.95 s.\n",
      "epoch 55000 finished, MSE: 0.07700950834481385, time: 7.59 s.\n",
      "epoch 56000 finished, MSE: 0.06993358693659238, time: 4.88 s.\n",
      "epoch 57000 finished, MSE: 0.06379270963788683, time: 4.97 s.\n",
      "epoch 58000 finished, MSE: 0.058437343320583875, time: 4.56 s.\n",
      "epoch 59000 finished, MSE: 0.05374454327331288, time: 4.02 s.\n",
      "epoch 60000 finished, MSE: 0.04961303922257187, time: 4.26 s.\n",
      "epoch 61000 finished, MSE: 0.04595918340079305, time: 8.29 s.\n",
      "epoch 62000 finished, MSE: 0.04271364888550031, time: 4.53 s.\n",
      "epoch 63000 finished, MSE: 0.03981875815802181, time: 2.83 s.\n",
      "epoch 64000 finished, MSE: 0.037226329573341196, time: 3.76 s.\n",
      "epoch 65000 finished, MSE: 0.03489594370225373, time: 4.16 s.\n",
      "epoch 66000 finished, MSE: 0.032793547284034566, time: 4.17 s.\n",
      "epoch 67000 finished, MSE: 0.030890327404199155, time: 4.8 s.\n",
      "epoch 68000 finished, MSE: 0.02916180151338438, time: 8.54 s.\n",
      "epoch 69000 finished, MSE: 0.02758707979414408, time: 8.13 s.\n",
      "epoch 70000 finished, MSE: 0.026148265275423542, time: 7.1 s.\n",
      "epoch 71000 finished, MSE: 0.024829964242147378, time: 4.96 s.\n",
      "epoch 72000 finished, MSE: 0.023618885176305685, time: 6.03 s.\n",
      "epoch 73000 finished, MSE: 0.022503508967550972, time: 5.49 s.\n",
      "epoch 74000 finished, MSE: 0.021473816682273484, time: 3.54 s.\n",
      "epoch 75000 finished, MSE: 0.020521063977700888, time: 4.01 s.\n",
      "epoch 76000 finished, MSE: 0.01963759345183615, time: 5.31 s.\n",
      "epoch 77000 finished, MSE: 0.018816677958705445, time: 4.94 s.\n",
      "epoch 78000 finished, MSE: 0.018052389292215885, time: 3.96 s.\n",
      "epoch 79000 finished, MSE: 0.017339487729994493, time: 3.89 s.\n",
      "epoch 80000 finished, MSE: 0.016673328792599317, time: 5.03 s.\n"
     ]
    }
   ],
   "source": [
    "n_epochs = 80000 # petit nombre pour tester, puis passer à l'échelle\n",
    "mse_hist = [] # loss function evolution\n",
    "n_obs = X.shape[0] # Nombre d'observations, taille du dataset\n",
    "tic = time()\n",
    "\n",
    "for epoch in range(1, n_epochs + 1):\n",
    "    # gradient init\n",
    "    nabla_W1 = np.zeros(W1.shape) # même shape que W1\n",
    "    nabla_W2 = np.zeros(W2.shape)\n",
    "    nabla_W3 = np.zeros(W3.shape)\n",
    "    nabla_b1 = np.zeros(b1.shape)\n",
    "    nabla_b2 = np.zeros(b2.shape)\n",
    "    nabla_b3 = np.zeros(b3.shape)\n",
    "    mse = 0 # mean squared error for this epoch (to be computed on many data points)\n",
    "    for ind in range(n_obs):\n",
    "        a0 = X[ind:ind+1, :].T\n",
    "        z1 = W1 @ a0 + b1\n",
    "        a1 = sigma(z1)\n",
    "        z2 = W2 @ a1 + b2\n",
    "        a2 = sigma(z2)\n",
    "        z3 = W3 @ a2 + b3\n",
    "        a3 = sigma(z3)\n",
    "        # MSE contribution for this data point\n",
    "        mse += (a3[0, 0] - y[ind])**2 # a3 est une matrice\n",
    "\n",
    "        # Backpropagation\n",
    "        delta3 = (a3 - y[ind]) * sigprim(z3)\n",
    "        delta2 = (W3.T @ delta3) * sigprim(z2)\n",
    "        delta1 = (W2.T @ delta2) * sigprim(z1)\n",
    "        nabla_b1 += delta1 # accumulation dans un batch (càd +=) !! \n",
    "        nabla_b2 += delta2\n",
    "        nabla_b3 += delta3\n",
    "        # Calcul pour les poids\n",
    "        for j in range(W3.shape[0]): # Pour chaque ligne\n",
    "            for k in range(W3.shape[1]): # Pour chaque colonne\n",
    "                nabla_W3[j, k] += a2[k, 0] * delta3[j, 0]\n",
    "        for j in range(W2.shape[0]): # Pour chaque ligne\n",
    "            for k in range(W2.shape[1]): # Pour chaque colonne\n",
    "                nabla_W2[j, k] += a1[k, 0] * delta2[j, 0]\n",
    "        for j in range(W1.shape[0]): # Pour chaque ligne\n",
    "            for k in range(W1.shape[1]): # Pour chaque colonne\n",
    "                nabla_W1[j, k] += a0[k, 0] * delta1[j, 0]\n",
    "        \n",
    "        ## --- End of computation for the (full batch)\n",
    "    # Update after one epoch (this is full batch mode)\n",
    "    b1 -= eta * nabla_b1 / n_obs # normalisation by number of examples\n",
    "    b2 -= eta * nabla_b2 / n_obs\n",
    "    b3 -= eta * nabla_b3 / n_obs\n",
    "\n",
    "    W1 -= eta * nabla_W1 / n_obs\n",
    "    W2 -= eta * nabla_W2 / n_obs\n",
    "    W3 -= eta * nabla_W3 / n_obs\n",
    "\n",
    "    # Suivi de l'experience\n",
    "    if epoch % 1000 == 0:\n",
    "        toc = time()\n",
    "        elapsed_time = round(toc - tic, 2)\n",
    "        tic = toc\n",
    "        print(f\"epoch {epoch} finished, MSE: {mse}, time: {elapsed_time} s.\")        "
   ]
  }
 ],
 "metadata": {
  "kernelspec": {
   "display_name": ".venv",
   "language": "python",
   "name": "python3"
  },
  "language_info": {
   "codemirror_mode": {
    "name": "ipython",
    "version": 3
   },
   "file_extension": ".py",
   "mimetype": "text/x-python",
   "name": "python",
   "nbconvert_exporter": "python",
   "pygments_lexer": "ipython3",
   "version": "3.12.4"
  }
 },
 "nbformat": 4,
 "nbformat_minor": 4
}
